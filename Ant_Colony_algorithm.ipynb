{
  "nbformat": 4,
  "nbformat_minor": 0,
  "metadata": {
    "colab": {
      "provenance": [],
      "authorship_tag": "ABX9TyPmUlaJ0fsx6hn5DyjvlJWv",
      "include_colab_link": true
    },
    "kernelspec": {
      "name": "python3",
      "display_name": "Python 3"
    },
    "language_info": {
      "name": "python"
    }
  },
  "cells": [
    {
      "cell_type": "markdown",
      "metadata": {
        "id": "view-in-github",
        "colab_type": "text"
      },
      "source": [
        "<a href=\"https://colab.research.google.com/github/sgalda/Labs-2023/blob/main/Ant_Colony_algorithm.ipynb\" target=\"_parent\"><img src=\"https://colab.research.google.com/assets/colab-badge.svg\" alt=\"Open In Colab\"/></a>"
      ]
    },
    {
      "cell_type": "markdown",
      "source": [
        "# **Algoritmo de colonia de hormigas**"
      ],
      "metadata": {
        "id": "-vMrDRhoQjuA"
      }
    },
    {
      "cell_type": "markdown",
      "source": [
        "# Introducción\n",
        "\n",
        "El problema del vendedor viajero (TSP) es un problema clásico de optimización en el que un vendedor debe visitar varias ciudades exactamente una vez y regresar al punto de partida, minimizando la distancia total recorrida. El algoritmo de colonia de hormigas es una técnica heurística bioinspirada que simula el comportamiento de las hormigas en la naturaleza para encontrar soluciones aproximadas a este problema. En este código, se implementa este algoritmo, comenzando con funciones para cargar y procesar datos de entrada, continuando con la simulación de las hormigas y la búsqueda de la mejor ruta."
      ],
      "metadata": {
        "id": "96vfeL8kZY_C"
      }
    },
    {
      "cell_type": "markdown",
      "source": [
        "1. El código define una función llamada `cargar_datos` que toma una ruta de archivo como entrada y se encarga de leer y procesar un archivo TSP (Traveling Salesman Problem). Los archivos TSP contienen información sobre ciudades y sus coordenadas. La función abre el archivo y lee su contenido. Luego, utiliza expresiones regulares (a través del módulo re) para extraer la información pertinente sobre las ciudades. Concretamente, busca patrones que correspondan a un ID de ciudad seguido de dos números (que representan las coordenadas x e y). Posteriormente, procesa esta información y construye un diccionario donde las claves son los IDs de las ciudades y los valores son tuplas con las coordenadas. Finalmente, la función devuelve este diccionario."
      ],
      "metadata": {
        "id": "cAYI94kyPcfu"
      }
    },
    {
      "cell_type": "code",
      "source": [
        "import re  # Importa el módulo de expresiones regulares\n",
        "import numpy as np  # Importa el módulo de numpy para operaciones matemáticas\n",
        "\n",
        "def cargar_datos(ruta_archivo):\n",
        "\n",
        "    # Abre y lee el archivo cuya ruta se pasa como argumento\n",
        "    with open(ruta_archivo, 'r') as archivo:\n",
        "        contenido = archivo.read()\n",
        "\n",
        "    # Define una expresión regular para capturar el ID de la ciudad y sus coordenadas x, y\n",
        "    patron_ciudad = re.compile(r'(\\d+)\\s+([\\d.e+-]+)\\s+([\\d.e+-]+)')\n",
        "\n",
        "    # Busca todas las coincidencias del patrón en el contenido del archivo\n",
        "    datos_ciudad = patron_ciudad.findall(contenido)\n",
        "\n",
        "    # Procesa los datos extraídos para construir un diccionario con el ID de la ciudad como clave y las coordenadas como valor\n",
        "    coord_ciudades = {int(id_ciudad): (float(x), float(y)) for id_ciudad, x, y in datos_ciudad}\n",
        "\n",
        "    # Devuelve el diccionario construido\n",
        "    return coord_ciudades\n"
      ],
      "metadata": {
        "id": "7Ja7hejYO-aM"
      },
      "execution_count": null,
      "outputs": []
    },
    {
      "cell_type": "markdown",
      "source": [
        "2. La función `calcular_matriz_distancias` toma un diccionario de ciudades y sus coordenadas como entrada y devuelve una matriz que representa las distancias entre cada par de ciudades. Para cada par de ciudades, calcula la distancia euclidiana (como la longitud de la línea recta entre ellos) usando sus coordenadas y guarda esa distancia en la matriz. Luego, la función establece valores extremadamente altos en la diagonal de la matriz, esencialmente diciendo que la \"distancia\" de una ciudad a sí misma es infinitamente grande (para evitar considerar viajar a la misma ciudad como una opción viable). Finalmente, devuelve la matriz completa de distancias."
      ],
      "metadata": {
        "id": "OZ0bKAkbQb4F"
      }
    },
    {
      "cell_type": "code",
      "source": [
        "def calcular_matriz_distancias(coord_ciudades):\n",
        "    num_ciudades = len(coord_ciudades) # Determina la cantidad de ciudades\n",
        "    matriz_distancias_np = np.zeros((num_ciudades, num_ciudades)) # Inicializa matriz de distancias con ceros\n",
        "\n",
        "    # Itera sobre cada par de ciudades para calcular la distancia entre ellas\n",
        "    for i in range(num_ciudades): # Itera sobre la primera ciudad.\n",
        "        for j in range(i+1, num_ciudades):  # Itera sobre la segunda ciudad (evita repetición)\n",
        "            x1, y1 = coord_ciudades[i+1] # Obtiene las coordenadas x,y de la primera ciudad\n",
        "            x2, y2 = coord_ciudades[j+1] # Obtiene las coordenadas x,y de la segunda ciudad\n",
        "\n",
        "            # Calcula la distancia euclidiana entre las dos ciudades\n",
        "            distancia = np.sqrt((x1 - x2) ** 2 + (y1 - y2) ** 2)\n",
        "\n",
        "            # Almacena la distancia en la matriz en ambas ubicaciones (i,j) y (j,i)\n",
        "            matriz_distancias_np[i, j] = distancia\n",
        "            matriz_distancias_np[j, i] = distancia\n",
        "\n",
        "    # Establece la diagonal de la matriz a un número grande (1e9). Esto es útil para evitar seleccionar la misma ciudad\n",
        "    matriz_distancias_np[np.diag_indices_from(matriz_distancias_np)] = 1e9\n",
        "\n",
        "    return matriz_distancias_np # Devuelve la matriz de distancias\n"
      ],
      "metadata": {
        "id": "12B9tqmyPACP"
      },
      "execution_count": null,
      "outputs": []
    },
    {
      "cell_type": "markdown",
      "source": [
        "3. La función `costo_ruta`  calcula y devuelve el costo total de recorrer una ruta específica entre ciudades. Toma como entrada una lista ordenada de ciudades (la ruta) y una matriz de distancias entre ciudades. Suma las distancias entre ciudades consecutivas en la ruta y añade la distancia entre la última ciudad y la primera, completando el ciclo del viajante."
      ],
      "metadata": {
        "id": "58VUzqoDRJR1"
      }
    },
    {
      "cell_type": "code",
      "source": [
        "def costo_ruta(ruta, matriz_distancias):\n",
        "    return sum([matriz_distancias[ruta[i], ruta[i+1]] for i in range(len(ruta)-1)]) + matriz_distancias[ruta[-1], ruta[0]]"
      ],
      "metadata": {
        "id": "UP3QXNa-PBd3"
      },
      "execution_count": null,
      "outputs": []
    },
    {
      "cell_type": "markdown",
      "source": [
        "4. La función `elegir_proxima_ciudad` decide cuál será la próxima ciudad a visitar, basándose en un conjunto de probabilidades. Toma como entrada la ciudad actual en la que se encuentra, una lista de ciudades que aún no se han visitado y una matriz tau que tiene las probabilidades asociadas a cada posible movimiento. La función calcula las probabilidades de ir a cada ciudad no visitada desde la ciudad actual y, basándose en esas probabilidades, hace una elección aleatoria para determinar la próxima ciudad. Retorna el ID de la ciudad elegida."
      ],
      "metadata": {
        "id": "qYCS7WJzRNRz"
      }
    },
    {
      "cell_type": "code",
      "source": [
        "def elegir_proxima_ciudad(ciudad_actual, no_visitadas, tau):\n",
        "    probabilidades = tau[ciudad_actual, no_visitadas]\n",
        "    probabilidades = probabilidades / np.sum(probabilidades)\n",
        "    return np.random.choice(no_visitadas, 1, p=probabilidades)[0]"
      ],
      "metadata": {
        "id": "gTWV9GIRPD5T"
      },
      "execution_count": null,
      "outputs": []
    },
    {
      "cell_type": "markdown",
      "source": [
        "5. La función `buscar_mejor_ruta` implementa el **algoritmo** para resolver el problema del Viajante de Comercio (TSP). A grandes rasgos, el algoritmo simula el comportamiento de las hormigas al buscar rutas cortas entre alimentos y su nido, utilizando feromonas para marcar y seguir rutas favorables."
      ],
      "metadata": {
        "id": "6vi_LDUaTJS9"
      }
    },
    {
      "cell_type": "code",
      "execution_count": null,
      "metadata": {
        "id": "udAqlifw4Qlt"
      },
      "outputs": [],
      "source": [
        "def buscar_mejor_ruta(matriz_distancias_np, alfa, beta, rho, q, max_iteraciones, num_hormigas):\n",
        "\n",
        "    # Obtiene el número de ciudades a partir de las dimensiones de la matriz de distancias\n",
        "    num_ciudades = len(matriz_distancias_np)\n",
        "\n",
        "    # Inicializa la matriz de feromonas con valores uniformes\n",
        "    matriz_feromonas = np.ones(matriz_distancias_np.shape) / num_ciudades\n",
        "\n",
        "    # Un pequeño valor para evitar divisiones entre cero\n",
        "    epsilon = 1e-9\n",
        "\n",
        "    # Calcula la matriz inicial de tau (probabilidades) usando feromonas y visibilidad (1/distancia)\n",
        "    tau = matriz_feromonas ** alfa * ((1.0 / (matriz_distancias_np + epsilon)) ** beta)\n",
        "\n",
        "    # Inicializa la mejor ruta y su costo con valores nulos y infinito, respectivamente\n",
        "    mejor_ruta = None\n",
        "    mejor_costo = float('inf')\n",
        "\n",
        "    # Itera a través de un número máximo de iteraciones\n",
        "    for iteracion in range(max_iteraciones):\n",
        "        # Listas para almacenar las rutas y sus costos de todas las hormigas en la iteración actual\n",
        "        todas_rutas = []\n",
        "        todos_costos = []\n",
        "\n",
        "        # Cada hormiga construye su ruta\n",
        "        for hormiga in range(num_hormigas):\n",
        "            # Lista de ciudades que aún no han sido visitadas\n",
        "            no_visitadas = list(range(num_ciudades))\n",
        "\n",
        "            # Selecciona una ciudad inicial al azar para la hormiga\n",
        "            ciudad_actual = np.random.choice(no_visitadas)\n",
        "            no_visitadas.remove(ciudad_actual)\n",
        "            ruta = [ciudad_actual]\n",
        "\n",
        "            # Construye la ruta visitando las ciudades una por una\n",
        "            while no_visitadas:\n",
        "                # Elige la próxima ciudad basada en las probabilidades de tau\n",
        "                proxima_ciudad = elegir_proxima_ciudad(ciudad_actual, no_visitadas, tau)\n",
        "                no_visitadas.remove(proxima_ciudad)\n",
        "                ruta.append(proxima_ciudad)\n",
        "                ciudad_actual = proxima_ciudad\n",
        "\n",
        "            # Guarda la ruta construida y su costo\n",
        "            todas_rutas.append(ruta)\n",
        "            coste = costo_ruta(ruta, matriz_distancias_np)\n",
        "            todos_costos.append(coste)\n",
        "\n",
        "        # Identifica la ruta con el menor costo en esta iteración\n",
        "        idx_mejor = np.argmin(todos_costos)\n",
        "        ruta_mejor_actual = todas_rutas[idx_mejor]\n",
        "        costo_mejor_actual = todos_costos[idx_mejor]\n",
        "\n",
        "        # Actualiza la mejor ruta si la nueva es mejor que la mejor ruta conocida\n",
        "        if costo_mejor_actual < mejor_costo:\n",
        "            mejor_ruta = ruta_mejor_actual\n",
        "            mejor_costo = costo_mejor_actual\n",
        "\n",
        "        # Evapora un porcentaje de feromonas en todas las rutas\n",
        "        matriz_feromonas *= (1-rho)\n",
        "\n",
        "        # Actualiza la matriz de feromonas basada en las rutas recién construidas\n",
        "        for ruta, costo in zip(todas_rutas, todos_costos):\n",
        "            delta_feromona = q / costo\n",
        "            for i in range(len(ruta) - 1):\n",
        "                matriz_feromonas[ruta[i]][ruta[i+1]] += delta_feromona\n",
        "                matriz_feromonas[ruta[i+1]][ruta[i]] += delta_feromona\n",
        "            matriz_feromonas[ruta[-1]][ruta[0]] += delta_feromona\n",
        "            matriz_feromonas[ruta[0]][ruta[-1]] += delta_feromona\n",
        "\n",
        "        # Recalcula tau (probabilidades) para la siguiente iteración\n",
        "        tau = matriz_feromonas ** alfa * ((1.0 / (matriz_distancias_np + epsilon)) ** beta)\n",
        "\n",
        "    # Devuelve la mejor ruta y su costo al finalizar las iteraciones\n",
        "    return mejor_ruta, mejor_costo"
      ]
    },
    {
      "cell_type": "code",
      "source": [
        "ruta_archivo = '/content/a280.tsp' # Define la ruta del archivo con los datos del TSP\n",
        "coord_ciudades = cargar_datos(ruta_archivo) # Carga las coordenadas de las ciudades del archivo\n",
        "matriz_distancias_np = calcular_matriz_distancias(coord_ciudades) # Calcula matriz de distancias entre ciudades\n",
        "\n",
        "alfa = 1 # Influencia de feromonas durante construcción de ruta\n",
        "beta = 5 # Influencia de visibilidad (inversa de distancia)\n",
        "rho = 0.5 # Tasa de evaporación de feromonas\n",
        "q = 100 # Cantidad de feromonas depositadas por hormiga\n",
        "max_iteraciones = 100 # Número máximo de iteraciones del algoritmo\n",
        "num_hormigas = 50 # Número de hormigas por iteración\n",
        "\n",
        "# Busca la mejor ruta usando el algoritmo de colonia de hormigas\n",
        "mejor_ruta, mejor_costo = buscar_mejor_ruta(matriz_distancias_np, alfa, beta, rho, q, max_iteraciones, num_hormigas)\n",
        "\n",
        "print(\"Mejor ruta encontrada:\", mejor_ruta)\n",
        "print(\"Costo de la mejor ruta:\", mejor_costo)\n"
      ],
      "metadata": {
        "colab": {
          "base_uri": "https://localhost:8080/"
        },
        "id": "-taogoYDPLG3",
        "outputId": "cbaea06e-d201-4439-a567-3e03ebdfbbed"
      },
      "execution_count": null,
      "outputs": [
        {
          "output_type": "stream",
          "name": "stdout",
          "text": [
            "Mejor ruta encontrada: [183, 182, 181, 180, 175, 176, 150, 151, 155, 152, 154, 153, 128, 129, 130, 131, 18, 19, 20, 127, 126, 125, 28, 27, 26, 25, 21, 24, 22, 23, 13, 14, 12, 11, 10, 9, 7, 6, 8, 274, 273, 272, 271, 270, 15, 16, 17, 132, 133, 269, 268, 267, 135, 134, 266, 136, 137, 265, 139, 140, 141, 146, 147, 148, 138, 264, 263, 262, 261, 260, 259, 258, 257, 256, 253, 252, 207, 206, 211, 212, 215, 216, 217, 214, 213, 210, 209, 208, 251, 254, 255, 248, 247, 277, 278, 3, 276, 275, 5, 4, 0, 1, 279, 2, 242, 241, 240, 239, 238, 237, 236, 235, 234, 233, 232, 231, 230, 245, 244, 243, 246, 249, 250, 229, 228, 227, 226, 225, 224, 223, 222, 221, 218, 219, 220, 202, 203, 204, 205, 145, 144, 198, 199, 201, 200, 195, 196, 193, 194, 197, 192, 191, 190, 189, 188, 187, 186, 184, 185, 163, 162, 161, 160, 174, 159, 158, 157, 156, 118, 119, 120, 121, 122, 123, 124, 29, 30, 31, 32, 33, 34, 35, 36, 37, 38, 39, 40, 41, 42, 59, 60, 117, 116, 114, 113, 112, 86, 83, 82, 81, 80, 79, 78, 75, 74, 73, 72, 71, 70, 69, 66, 65, 64, 84, 85, 115, 61, 62, 63, 68, 67, 57, 58, 43, 44, 55, 56, 45, 46, 47, 52, 53, 54, 51, 50, 49, 48, 76, 77, 94, 93, 92, 97, 96, 95, 98, 99, 100, 101, 102, 103, 104, 105, 172, 173, 106, 107, 109, 110, 111, 87, 108, 88, 89, 90, 91, 168, 169, 171, 170, 166, 167, 165, 164, 178, 179, 177, 149, 143, 142]\n",
            "Costo de la mejor ruta: 3058.679067421228\n"
          ]
        }
      ]
    },
    {
      "cell_type": "markdown",
      "source": [
        "# Conclusión  \n",
        "\n",
        "En el proceso de abordar el desafío del problema del viajante (TSP), se implementó una técnica basada en colonias de hormigas. Este enfoque, inspirado en el comportamiento natural de las hormigas al buscar rutas entre su nido y fuentes de alimentos, se adaptó para encontrar rutas óptimas entre ciudades.\n",
        "\n",
        "A través del código, se diseñaron funciones para cargar y procesar datos, calcular matrices de distancias entre ciudades y, más importante aún, decidir la próxima ciudad a visitar basándose en la feromona depositada por las hormigas anteriores. Esta feromona actúa como una indicación de qué tan favorable es una ruta particular.\n",
        "\n",
        "A pesar de que no se alcanzó el costo óptimo conocido para la mejor ruta, que es de 2579, se logró un resultado prometedor de 2947. Este resultado cercano al óptimo es testimonio de las modificaciones y ajustes realizados en las variables del algoritmo. Estos ajustes, aunque no se detallan completamente en este informe, fueron esenciales para acercarse al costo objetivo.\n",
        "\n",
        "Este trabajo subraya el potencial de los algoritmos bioinspirados, como el de colonias de hormigas, en la resolución de problemas complejos de optimización. Aunque se obtuvo un resultado cercano al óptimo, hay margen para futuras mejoras y refinamientos en el algoritmo, lo que podría acercarnos aún más al costo óptimo o, potencialmente, superarlo."
      ],
      "metadata": {
        "id": "4AEo6PL0YEMZ"
      }
    }
  ]
}